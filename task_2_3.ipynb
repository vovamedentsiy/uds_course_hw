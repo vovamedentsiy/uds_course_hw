{
 "cells": [
  {
   "cell_type": "markdown",
   "metadata": {},
   "source": [
    "# Второе и третье задание \n",
    "\n",
    "Логистическая регрессия - тренирую на датасете с новыми фичами; CV-score = 0.7296 LB-score = 0.666\n",
    "\n",
    "Беггинг - на датасете без новых фич CV-score = 0.7257 LB-score = 0.673\n",
    "\n"
   ]
  },
  {
   "cell_type": "code",
   "execution_count": 1,
   "metadata": {},
   "outputs": [],
   "source": [
    "\n",
    "import pandas as pd\n",
    "import numpy as np\n",
    "\n",
    "\n",
    "\n",
    "\n",
    "train = pd.read_csv('train.csv', sep = '\\t', index_col = 'Unnamed: 0')\n",
    "test = pd.read_csv('test.csv', sep = '\\t', index_col = 'Unnamed: 0')\n",
    "\n",
    "train.drop(['140', '152', '160', '164','305', '303', '301', '193', '192', '186', '150', '141', '138', '130'],inplace = True,axis = 1)\n",
    "test.drop(['140', '152', '160', '164','305', '303', '301', '193', '192', '186', '150', '141', '138', '130'],inplace = True, axis = 1)\n",
    "\n",
    "X_train, y_train = train[train.columns[1:]], train['0']\n",
    "X_test, y_test = test[test.columns[1:]], test['0'].fillna(0, inplace = True)\n",
    "\n",
    "\n",
    "\n",
    "# matthews correlation of binary columns with target variable\n",
    "binary_list = [i for i in X_train.columns if len(X_train[i].value_counts()) == 2]\n",
    "\n",
    "from sklearn.metrics import matthews_corrcoef\n",
    "import operator\n",
    "\n",
    "matt_corr = {}\n",
    "high_negative = {}\n",
    "high_positive = {}\n",
    "\n",
    "for i in binary_list:\n",
    "    matt_corr[i] = matthews_corrcoef(y_train.values, X_train[i].values)\n",
    "    if matt_corr[i] >= 0.07:\n",
    "        high_positive[i] = matthews_corrcoef(y_train.values, X_train[i].values)\n",
    "    elif matt_corr[i] <= -0.07:\n",
    "        high_negative[i] = matthews_corrcoef(y_train.values, X_train[i].values)\n",
    "        \n",
    "        \n",
    "    \n",
    "high_positive_sorted = sorted(high_positive.items(), key=operator.itemgetter(1))\n",
    "high_negative_sorted = sorted(high_negative.items(), key=operator.itemgetter(1))    \n",
    "matt_corr_sorted = sorted(matt_corr.items(), key=operator.itemgetter(1))\n",
    "\n",
    "for i in range(len(list(high_positive.keys()))):\n",
    "    for j in range(i+1 ,len(list(high_positive.keys()))):\n",
    "        if matthews_corrcoef(X_train[list(high_positive.keys())[i]], X_train[list(high_positive.keys())[j]]) < 0.3:\n",
    "            mix = np.logical_or(X_train[list(high_positive.keys())[i]], X_train[list(high_positive.keys())[j]])\n",
    "            mix = np.array([int(i) for i in mix])\n",
    "            if (matthews_corrcoef(mix, X_train[list(high_positive.keys())[i]]) < 0.99) and (matthews_corrcoef(mix, X_train[list(high_positive.keys())[i]])) < 0.99:\n",
    "                X_train['mixOR '+list(high_positive.keys())[i]+'-'+list(high_positive.keys())[j]] = mix\n",
    "                mix_1 = np.logical_or(X_test[list(high_positive.keys())[i]], X_test[list(high_positive.keys())[j]])\n",
    "                mix_1 = np.array([int(i) for i in mix_1])                \n",
    "                X_test['mixOR '+list(high_positive.keys())[i]+'-'+list(high_positive.keys())[j]] = mix_1\n",
    "\n",
    "\n",
    "        if matthews_corrcoef(X_train[list(high_positive.keys())[i]], X_train[list(high_positive.keys())[j]]) > 0.6:\n",
    "            mix = np.logical_and(X_train[list(high_positive.keys())[i]], X_train[list(high_positive.keys())[j]])\n",
    "            mix = np.array([int(i) for i in mix])\n",
    "            if (matthews_corrcoef(mix, X_train[list(high_positive.keys())[i]]) < 0.99) and (matthews_corrcoef(mix, X_train[list(high_positive.keys())[i]])) < 0.99:\n",
    "                X_train['mixAND '+list(high_positive.keys())[i]+'-'+ list(high_positive.keys())[j]] = mix\n",
    "                mix_1 = np.logical_and(X_test[list(high_positive.keys())[i]], X_test[list(high_positive.keys())[j]])\n",
    "                mix_1 = np.array([int(i) for i in mix_1])      \n",
    "                X_test['mixAND '+list(high_positive.keys())[i]+'-'+ list(high_positive.keys())[j]] = mix_1\n",
    "\n",
    "\n",
    "\n",
    "for i in range(len(list(high_negative.keys()))):\n",
    "    for j in range(i+1 ,len(list(high_negative.keys()))):        \n",
    "        if matthews_corrcoef(X_train[list(high_negative.keys())[i]], X_train[list(high_negative.keys())[j]]) < 0.3:\n",
    "            mix = np.logical_or(X_train[list(high_negative.keys())[i]], X_train[list(high_negative.keys())[j]])\n",
    "            mix = np.array([int(i) for i in mix])\n",
    "            if (matthews_corrcoef(mix, X_train[list(high_negative.keys())[i]]) < 0.99) and (matthews_corrcoef(mix, X_train[list(high_negative.keys())[i]])) < 0.99:\n",
    "                X_train['mixOR '+list(high_negative.keys())[i]+'-'+list(high_negative.keys())[j]] = mix\n",
    "                mix_1 = np.logical_or(X_test[list(high_negative.keys())[i]], X_test[list(high_negative.keys())[j]])\n",
    "                mix_1 = np.array([int(i) for i in mix_1])                \n",
    "                X_test['mixOR '+list(high_negative.keys())[i]+'-'+list(high_negative.keys())[j]] = mix_1\n",
    "\n",
    "\n",
    "                \n",
    "        if matthews_corrcoef(X_train[list(high_negative.keys())[i]], X_train[list(high_negative.keys())[j]]) > 0.6:\n",
    "            mix = np.logical_and(X_train[list(high_negative.keys())[i]], X_train[list(high_negative.keys())[j]])\n",
    "            mix = np.array([int(i) for i in mix])\n",
    "            if (matthews_corrcoef(mix, X_train[list(high_negative.keys())[i]]) < 0.99) and (matthews_corrcoef(mix, X_train[list(high_negative.keys())[i]])) < 0.99:\n",
    "                X_train['mixAND '+list(high_negative.keys())[i]+'-'+ list(high_negative.keys())[j]] = mix\n",
    "                \n",
    "                mix_1 = np.logical_and(X_test[list(high_negative.keys())[i]], X_test[list(high_negative.keys())[j]])\n",
    "                mix_1 = np.array([int(i) for i in mix_1])                \n",
    "                X_test['mixOR '+list(high_negative.keys())[i]+'-'+list(high_negative.keys())[j]] = mix_1\n",
    "\n",
    "\n",
    "X_train_old, y_train_old = train[train.columns[1:]], train['0']\n",
    "X_test_old, y_test_old = test[test.columns[1:]], test['0'].fillna(0, inplace = True)\n",
    "\n"
   ]
  },
  {
   "cell_type": "code",
   "execution_count": 9,
   "metadata": {},
   "outputs": [],
   "source": [
    "from sklearn.model_selection import StratifiedKFold\n",
    "from sklearn.pipeline import Pipeline\n",
    "from sklearn.model_selection import GridSearchCV\n",
    "from sklearn.linear_model import LogisticRegression\n",
    "\n",
    "\n",
    "skf = StratifiedKFold(n_splits=4)\n",
    "classifier = LogisticRegression(max_iter = 100)\n",
    "pipeline = Pipeline([('classifier', classifier)])\n",
    "\n",
    "param_grid = [{'classifier__C':[0.005, 0.04588385, 0.05, 0.1, 0.15, 0.2 , 0.3, 0.8, 1, 4, 7, 10], 'classifier__class_weight':[None, 'balanced']}]\n",
    "grid_search = GridSearchCV(pipeline, param_grid = param_grid, cv = skf, scoring = 'roc_auc', n_jobs = 3, verbose = 2)\n",
    "\n",
    "\n"
   ]
  },
  {
   "cell_type": "code",
   "execution_count": null,
   "metadata": {},
   "outputs": [],
   "source": [
    "grid_search.fit(X_train,y_train)"
   ]
  },
  {
   "cell_type": "code",
   "execution_count": 11,
   "metadata": {},
   "outputs": [
    {
     "name": "stdout",
     "output_type": "stream",
     "text": [
      "{'classifier__C': 0.04588385, 'classifier__class_weight': 'balanced'}\n",
      "0.729693078495\n"
     ]
    }
   ],
   "source": [
    "print(grid_search.best_params_)\n",
    "print(grid_search.best_score_)"
   ]
  },
  {
   "cell_type": "code",
   "execution_count": 12,
   "metadata": {},
   "outputs": [
    {
     "data": {
      "text/plain": [
       "Pipeline(steps=[('classifier', LogisticRegression(C=0.04588385, class_weight='balanced', dual=False,\n",
       "          fit_intercept=True, intercept_scaling=1, max_iter=100,\n",
       "          multi_class='ovr', n_jobs=1, penalty='l2', random_state=None,\n",
       "          solver='liblinear', tol=0.0001, verbose=0, warm_start=False))])"
      ]
     },
     "execution_count": 12,
     "metadata": {},
     "output_type": "execute_result"
    }
   ],
   "source": [
    "best_lr = grid_search.best_estimator_\n",
    "best_lr.fit(X_train,y_train)"
   ]
  },
  {
   "cell_type": "code",
   "execution_count": 12,
   "metadata": {},
   "outputs": [
    {
     "data": {
      "text/plain": [
       "Pipeline(steps=[('classifier', LogisticRegression(C=0.04588385, class_weight='balanced', dual=False,\n",
       "          fit_intercept=True, intercept_scaling=1, max_iter=100,\n",
       "          multi_class='ovr', n_jobs=1, penalty='l2', random_state=None,\n",
       "          solver='liblinear', tol=0.0001, verbose=0, warm_start=False))])"
      ]
     },
     "execution_count": 12,
     "metadata": {},
     "output_type": "execute_result"
    }
   ],
   "source": [
    "best_lr = grid_search.best_estimator_\n",
    "best_lr.fit(X_train,y_train)"
   ]
  },
  {
   "cell_type": "code",
   "execution_count": 24,
   "metadata": {},
   "outputs": [],
   "source": [
    "y_test = best_lr.predict(X_test)\n",
    "\n",
    "test['0'] = y_test\n",
    "header = ['_VAL_']\n",
    "test['0'].to_csv('lr_2.csv',sep =',', header = header, index_label = ['_ID_']) "
   ]
  },
  {
   "cell_type": "markdown",
   "metadata": {},
   "source": [
    "# Бэггинг"
   ]
  },
  {
   "cell_type": "code",
   "execution_count": 3,
   "metadata": {
    "collapsed": true
   },
   "outputs": [
    {
     "name": "stdout",
     "output_type": "stream",
     "text": [
      "Fitting 3 folds for each of 42 candidates, totalling 126 fits\n",
      "[CV] max_samples=0.85, max_features=0.95, base_estimator__C=0.005 ....\n",
      "[CV] max_samples=0.85, max_features=0.95, base_estimator__C=0.005 ....\n",
      "[CV] max_samples=0.85, max_features=0.95, base_estimator__C=0.005 ....\n",
      "[CV]  max_samples=0.85, max_features=0.95, base_estimator__C=0.005, total=   4.2s\n",
      "[CV] max_samples=0.9, max_features=0.95, base_estimator__C=0.005 .....\n",
      "[CV]  max_samples=0.85, max_features=0.95, base_estimator__C=0.005, total=   4.4s\n",
      "[CV] max_samples=0.9, max_features=0.95, base_estimator__C=0.005 .....\n",
      "[CV]  max_samples=0.85, max_features=0.95, base_estimator__C=0.005, total=   4.5s\n",
      "[CV] max_samples=0.9, max_features=0.95, base_estimator__C=0.005 .....\n",
      "[CV]  max_samples=0.9, max_features=0.95, base_estimator__C=0.005, total=   4.5s\n",
      "[CV] max_samples=0.95, max_features=0.95, base_estimator__C=0.005 ....\n",
      "[CV]  max_samples=0.9, max_features=0.95, base_estimator__C=0.005, total=   4.4s\n",
      "[CV] max_samples=0.95, max_features=0.95, base_estimator__C=0.005 ....\n",
      "[CV]  max_samples=0.9, max_features=0.95, base_estimator__C=0.005, total=   4.5s\n",
      "[CV] max_samples=0.95, max_features=0.95, base_estimator__C=0.005 ....\n",
      "[CV]  max_samples=0.95, max_features=0.95, base_estimator__C=0.005, total=   4.1s\n",
      "[CV] max_samples=0.85, max_features=1.0, base_estimator__C=0.005 .....\n",
      "[CV]  max_samples=0.95, max_features=0.95, base_estimator__C=0.005, total=   4.2s\n",
      "[CV]  max_samples=0.95, max_features=0.95, base_estimator__C=0.005, total=   4.0s\n",
      "[CV] max_samples=0.85, max_features=1.0, base_estimator__C=0.005 .....\n",
      "[CV] max_samples=0.85, max_features=1.0, base_estimator__C=0.005 .....\n",
      "[CV]  max_samples=0.85, max_features=1.0, base_estimator__C=0.005, total=   4.0s\n",
      "[CV] max_samples=0.9, max_features=1.0, base_estimator__C=0.005 ......\n",
      "[CV]  max_samples=0.85, max_features=1.0, base_estimator__C=0.005, total=   4.1s\n",
      "[CV] max_samples=0.9, max_features=1.0, base_estimator__C=0.005 ......\n",
      "[CV]  max_samples=0.85, max_features=1.0, base_estimator__C=0.005, total=   4.1s\n",
      "[CV] max_samples=0.9, max_features=1.0, base_estimator__C=0.005 ......\n",
      "[CV]  max_samples=0.9, max_features=1.0, base_estimator__C=0.005, total=   4.2s\n",
      "[CV] max_samples=0.95, max_features=1.0, base_estimator__C=0.005 .....\n",
      "[CV]  max_samples=0.9, max_features=1.0, base_estimator__C=0.005, total=   4.1s\n",
      "[CV] max_samples=0.95, max_features=1.0, base_estimator__C=0.005 .....\n",
      "[CV]  max_samples=0.9, max_features=1.0, base_estimator__C=0.005, total=   4.1s\n",
      "[CV] max_samples=0.95, max_features=1.0, base_estimator__C=0.005 .....\n",
      "[CV]  max_samples=0.95, max_features=1.0, base_estimator__C=0.005, total=   4.1s\n",
      "[CV] max_samples=0.85, max_features=0.95, base_estimator__C=0.0208333333333 \n",
      "[CV]  max_samples=0.95, max_features=1.0, base_estimator__C=0.005, total=   4.2s\n",
      "[CV] max_samples=0.85, max_features=0.95, base_estimator__C=0.0208333333333 \n",
      "[CV]  max_samples=0.95, max_features=1.0, base_estimator__C=0.005, total=   4.1s\n",
      "[CV] max_samples=0.85, max_features=0.95, base_estimator__C=0.0208333333333 \n",
      "[CV]  max_samples=0.85, max_features=0.95, base_estimator__C=0.0208333333333, total=   5.3s\n",
      "[CV] max_samples=0.9, max_features=0.95, base_estimator__C=0.0208333333333 \n",
      "[CV]  max_samples=0.85, max_features=0.95, base_estimator__C=0.0208333333333, total=   5.3s\n",
      "[CV] max_samples=0.9, max_features=0.95, base_estimator__C=0.0208333333333 \n",
      "[CV]  max_samples=0.85, max_features=0.95, base_estimator__C=0.0208333333333, total=   5.3s\n",
      "[CV] max_samples=0.9, max_features=0.95, base_estimator__C=0.0208333333333 \n",
      "[CV]  max_samples=0.9, max_features=0.95, base_estimator__C=0.0208333333333, total=   6.1s\n",
      "[CV] max_samples=0.95, max_features=0.95, base_estimator__C=0.0208333333333 \n",
      "[CV]  max_samples=0.9, max_features=0.95, base_estimator__C=0.0208333333333, total=   6.1s\n",
      "[CV] max_samples=0.95, max_features=0.95, base_estimator__C=0.0208333333333 \n",
      "[CV]  max_samples=0.9, max_features=0.95, base_estimator__C=0.0208333333333, total=   6.2s\n",
      "[CV] max_samples=0.95, max_features=0.95, base_estimator__C=0.0208333333333 \n",
      "[CV]  max_samples=0.95, max_features=0.95, base_estimator__C=0.0208333333333, total=   6.3s\n",
      "[CV] max_samples=0.85, max_features=1.0, base_estimator__C=0.0208333333333 \n",
      "[CV]  max_samples=0.95, max_features=0.95, base_estimator__C=0.0208333333333, total=   6.4s\n",
      "[CV] max_samples=0.85, max_features=1.0, base_estimator__C=0.0208333333333 \n",
      "[CV]  max_samples=0.95, max_features=0.95, base_estimator__C=0.0208333333333, total=   6.3s\n",
      "[CV] max_samples=0.85, max_features=1.0, base_estimator__C=0.0208333333333 \n",
      "[CV]  max_samples=0.85, max_features=1.0, base_estimator__C=0.0208333333333, total=   5.8s\n",
      "[CV] max_samples=0.9, max_features=1.0, base_estimator__C=0.0208333333333 \n",
      "[CV]  max_samples=0.85, max_features=1.0, base_estimator__C=0.0208333333333, total=   6.1s\n",
      "[CV]  max_samples=0.85, max_features=1.0, base_estimator__C=0.0208333333333, total=   5.9s\n",
      "[CV] max_samples=0.9, max_features=1.0, base_estimator__C=0.0208333333333 \n",
      "[CV] max_samples=0.9, max_features=1.0, base_estimator__C=0.0208333333333 \n",
      "[CV]  max_samples=0.9, max_features=1.0, base_estimator__C=0.0208333333333, total=   6.4s\n",
      "[CV] max_samples=0.95, max_features=1.0, base_estimator__C=0.0208333333333 \n",
      "[CV]  max_samples=0.9, max_features=1.0, base_estimator__C=0.0208333333333, total=   6.4s\n",
      "[CV] max_samples=0.95, max_features=1.0, base_estimator__C=0.0208333333333 \n",
      "[CV]  max_samples=0.9, max_features=1.0, base_estimator__C=0.0208333333333, total=   6.3s\n",
      "[CV] max_samples=0.95, max_features=1.0, base_estimator__C=0.0208333333333 \n",
      "[CV]  max_samples=0.95, max_features=1.0, base_estimator__C=0.0208333333333, total=   6.6s\n",
      "[CV] max_samples=0.85, max_features=0.95, base_estimator__C=0.0366666666667 \n",
      "[CV]  max_samples=0.95, max_features=1.0, base_estimator__C=0.0208333333333, total=   6.8s\n",
      "[CV]  max_samples=0.95, max_features=1.0, base_estimator__C=0.0208333333333, total=   6.5s\n",
      "[CV] max_samples=0.85, max_features=0.95, base_estimator__C=0.0366666666667 \n"
     ]
    },
    {
     "name": "stderr",
     "output_type": "stream",
     "text": [
      "[Parallel(n_jobs=3)]: Done  35 tasks      | elapsed:  1.1min\n"
     ]
    },
    {
     "name": "stdout",
     "output_type": "stream",
     "text": [
      "[CV] max_samples=0.85, max_features=0.95, base_estimator__C=0.0366666666667 \n",
      "[CV]  max_samples=0.85, max_features=0.95, base_estimator__C=0.0366666666667, total=   6.8s\n",
      "[CV] max_samples=0.9, max_features=0.95, base_estimator__C=0.0366666666667 \n",
      "[CV]  max_samples=0.85, max_features=0.95, base_estimator__C=0.0366666666667, total=   6.5s\n",
      "[CV] max_samples=0.9, max_features=0.95, base_estimator__C=0.0366666666667 \n",
      "[CV]  max_samples=0.85, max_features=0.95, base_estimator__C=0.0366666666667, total=   6.8s\n",
      "[CV] max_samples=0.9, max_features=0.95, base_estimator__C=0.0366666666667 \n",
      "[CV]  max_samples=0.9, max_features=0.95, base_estimator__C=0.0366666666667, total=   6.7s\n",
      "[CV] max_samples=0.95, max_features=0.95, base_estimator__C=0.0366666666667 \n",
      "[CV]  max_samples=0.9, max_features=0.95, base_estimator__C=0.0366666666667, total=   6.7s\n",
      "[CV] max_samples=0.95, max_features=0.95, base_estimator__C=0.0366666666667 \n",
      "[CV]  max_samples=0.9, max_features=0.95, base_estimator__C=0.0366666666667, total=   6.7s\n",
      "[CV] max_samples=0.95, max_features=0.95, base_estimator__C=0.0366666666667 \n",
      "[CV]  max_samples=0.95, max_features=0.95, base_estimator__C=0.0366666666667, total=   6.3s\n",
      "[CV] max_samples=0.85, max_features=1.0, base_estimator__C=0.0366666666667 \n",
      "[CV]  max_samples=0.95, max_features=0.95, base_estimator__C=0.0366666666667, total=   6.7s\n",
      "[CV] max_samples=0.85, max_features=1.0, base_estimator__C=0.0366666666667 \n",
      "[CV]  max_samples=0.95, max_features=0.95, base_estimator__C=0.0366666666667, total=   6.7s\n",
      "[CV] max_samples=0.85, max_features=1.0, base_estimator__C=0.0366666666667 \n",
      "[CV]  max_samples=0.85, max_features=1.0, base_estimator__C=0.0366666666667, total=   7.7s\n",
      "[CV] max_samples=0.9, max_features=1.0, base_estimator__C=0.0366666666667 \n",
      "[CV]  max_samples=0.85, max_features=1.0, base_estimator__C=0.0366666666667, total=   7.3s\n",
      "[CV] max_samples=0.9, max_features=1.0, base_estimator__C=0.0366666666667 \n",
      "[CV]  max_samples=0.85, max_features=1.0, base_estimator__C=0.0366666666667, total=   7.3s\n",
      "[CV] max_samples=0.9, max_features=1.0, base_estimator__C=0.0366666666667 \n",
      "[CV]  max_samples=0.9, max_features=1.0, base_estimator__C=0.0366666666667, total=   6.8s\n",
      "[CV] max_samples=0.95, max_features=1.0, base_estimator__C=0.0366666666667 \n",
      "[CV]  max_samples=0.9, max_features=1.0, base_estimator__C=0.0366666666667, total=   6.5s\n",
      "[CV] max_samples=0.95, max_features=1.0, base_estimator__C=0.0366666666667 \n",
      "[CV]  max_samples=0.9, max_features=1.0, base_estimator__C=0.0366666666667, total=   6.7s\n",
      "[CV] max_samples=0.95, max_features=1.0, base_estimator__C=0.0366666666667 \n",
      "[CV]  max_samples=0.95, max_features=1.0, base_estimator__C=0.0366666666667, total=   6.5s\n",
      "[CV] max_samples=0.85, max_features=0.95, base_estimator__C=0.0525 ...\n",
      "[CV]  max_samples=0.95, max_features=1.0, base_estimator__C=0.0366666666667, total=   6.6s\n",
      "[CV] max_samples=0.85, max_features=0.95, base_estimator__C=0.0525 ...\n",
      "[CV]  max_samples=0.95, max_features=1.0, base_estimator__C=0.0366666666667, total=   6.6s\n",
      "[CV] max_samples=0.85, max_features=0.95, base_estimator__C=0.0525 ...\n",
      "[CV]  max_samples=0.85, max_features=0.95, base_estimator__C=0.0525, total=   7.4s\n",
      "[CV] max_samples=0.9, max_features=0.95, base_estimator__C=0.0525 ....\n",
      "[CV]  max_samples=0.85, max_features=0.95, base_estimator__C=0.0525, total=   7.5s\n",
      "[CV] max_samples=0.9, max_features=0.95, base_estimator__C=0.0525 ....\n",
      "[CV]  max_samples=0.85, max_features=0.95, base_estimator__C=0.0525, total=   7.2s\n",
      "[CV] max_samples=0.9, max_features=0.95, base_estimator__C=0.0525 ....\n",
      "[CV]  max_samples=0.9, max_features=0.95, base_estimator__C=0.0525, total=   7.3s\n",
      "[CV] max_samples=0.95, max_features=0.95, base_estimator__C=0.0525 ...\n",
      "[CV]  max_samples=0.9, max_features=0.95, base_estimator__C=0.0525, total=   7.4s\n",
      "[CV] max_samples=0.95, max_features=0.95, base_estimator__C=0.0525 ...\n",
      "[CV]  max_samples=0.9, max_features=0.95, base_estimator__C=0.0525, total=   7.2s\n",
      "[CV] max_samples=0.95, max_features=0.95, base_estimator__C=0.0525 ...\n",
      "[CV]  max_samples=0.95, max_features=0.95, base_estimator__C=0.0525, total=   6.8s\n",
      "[CV] max_samples=0.85, max_features=1.0, base_estimator__C=0.0525 ....\n",
      "[CV]  max_samples=0.95, max_features=0.95, base_estimator__C=0.0525, total=   6.9s\n",
      "[CV]  max_samples=0.95, max_features=0.95, base_estimator__C=0.0525, total=   6.7s\n",
      "[CV] max_samples=0.85, max_features=1.0, base_estimator__C=0.0525 ....\n",
      "[CV] max_samples=0.85, max_features=1.0, base_estimator__C=0.0525 ....\n",
      "[CV]  max_samples=0.85, max_features=1.0, base_estimator__C=0.0525, total=   6.7s\n",
      "[CV] max_samples=0.9, max_features=1.0, base_estimator__C=0.0525 .....\n",
      "[CV]  max_samples=0.85, max_features=1.0, base_estimator__C=0.0525, total=   6.9s\n",
      "[CV]  max_samples=0.85, max_features=1.0, base_estimator__C=0.0525, total=   7.1s\n",
      "[CV] max_samples=0.9, max_features=1.0, base_estimator__C=0.0525 .....\n",
      "[CV] max_samples=0.9, max_features=1.0, base_estimator__C=0.0525 .....\n",
      "[CV]  max_samples=0.9, max_features=1.0, base_estimator__C=0.0525, total=   7.1s\n",
      "[CV] max_samples=0.95, max_features=1.0, base_estimator__C=0.0525 ....\n",
      "[CV]  max_samples=0.9, max_features=1.0, base_estimator__C=0.0525, total=   7.3s\n",
      "[CV]  max_samples=0.9, max_features=1.0, base_estimator__C=0.0525, total=   7.1s\n",
      "[CV] max_samples=0.95, max_features=1.0, base_estimator__C=0.0525 ....\n",
      "[CV] max_samples=0.95, max_features=1.0, base_estimator__C=0.0525 ....\n",
      "[CV]  max_samples=0.95, max_features=1.0, base_estimator__C=0.0525, total=   8.6s\n",
      "[CV] max_samples=0.85, max_features=0.95, base_estimator__C=0.0683333333333 \n",
      "[CV]  max_samples=0.95, max_features=1.0, base_estimator__C=0.0525, total=   8.9s\n",
      "[CV] max_samples=0.85, max_features=0.95, base_estimator__C=0.0683333333333 \n",
      "[CV]  max_samples=0.95, max_features=1.0, base_estimator__C=0.0525, total=   8.7s\n",
      "[CV] max_samples=0.85, max_features=0.95, base_estimator__C=0.0683333333333 \n",
      "[CV]  max_samples=0.85, max_features=0.95, base_estimator__C=0.0683333333333, total=   7.9s\n",
      "[CV] max_samples=0.9, max_features=0.95, base_estimator__C=0.0683333333333 \n",
      "[CV]  max_samples=0.85, max_features=0.95, base_estimator__C=0.0683333333333, total=   7.0s\n",
      "[CV] max_samples=0.9, max_features=0.95, base_estimator__C=0.0683333333333 \n",
      "[CV]  max_samples=0.85, max_features=0.95, base_estimator__C=0.0683333333333, total=   7.1s\n",
      "[CV] max_samples=0.9, max_features=0.95, base_estimator__C=0.0683333333333 \n",
      "[CV]  max_samples=0.9, max_features=0.95, base_estimator__C=0.0683333333333, total=   7.3s\n",
      "[CV] max_samples=0.95, max_features=0.95, base_estimator__C=0.0683333333333 \n",
      "[CV]  max_samples=0.9, max_features=0.95, base_estimator__C=0.0683333333333, total=   7.0s\n",
      "[CV] max_samples=0.95, max_features=0.95, base_estimator__C=0.0683333333333 \n",
      "[CV]  max_samples=0.9, max_features=0.95, base_estimator__C=0.0683333333333, total=   6.9s\n",
      "[CV] max_samples=0.95, max_features=0.95, base_estimator__C=0.0683333333333 \n",
      "[CV]  max_samples=0.95, max_features=0.95, base_estimator__C=0.0683333333333, total=   7.8s\n",
      "[CV] max_samples=0.85, max_features=1.0, base_estimator__C=0.0683333333333 \n",
      "[CV]  max_samples=0.95, max_features=0.95, base_estimator__C=0.0683333333333, total=   7.7s\n",
      "[CV] max_samples=0.85, max_features=1.0, base_estimator__C=0.0683333333333 \n",
      "[CV]  max_samples=0.95, max_features=0.95, base_estimator__C=0.0683333333333, total=   8.2s\n",
      "[CV] max_samples=0.85, max_features=1.0, base_estimator__C=0.0683333333333 \n",
      "[CV]  max_samples=0.85, max_features=1.0, base_estimator__C=0.0683333333333, total=   9.7s\n",
      "[CV] max_samples=0.9, max_features=1.0, base_estimator__C=0.0683333333333 \n",
      "[CV]  max_samples=0.85, max_features=1.0, base_estimator__C=0.0683333333333, total=  10.0s\n",
      "[CV] max_samples=0.9, max_features=1.0, base_estimator__C=0.0683333333333 \n",
      "[CV]  max_samples=0.85, max_features=1.0, base_estimator__C=0.0683333333333, total=  10.7s\n",
      "[CV] max_samples=0.9, max_features=1.0, base_estimator__C=0.0683333333333 \n",
      "[CV]  max_samples=0.9, max_features=1.0, base_estimator__C=0.0683333333333, total=  10.9s\n",
      "[CV] max_samples=0.95, max_features=1.0, base_estimator__C=0.0683333333333 \n",
      "[CV]  max_samples=0.9, max_features=1.0, base_estimator__C=0.0683333333333, total=  11.0s\n",
      "[CV] max_samples=0.95, max_features=1.0, base_estimator__C=0.0683333333333 \n",
      "[CV]  max_samples=0.9, max_features=1.0, base_estimator__C=0.0683333333333, total=  10.7s\n"
     ]
    },
    {
     "name": "stdout",
     "output_type": "stream",
     "text": [
      "[CV] max_samples=0.95, max_features=1.0, base_estimator__C=0.0683333333333 \n",
      "[CV]  max_samples=0.95, max_features=1.0, base_estimator__C=0.0683333333333, total=  11.0s\n",
      "[CV] max_samples=0.85, max_features=0.95, base_estimator__C=0.0841666666667 \n",
      "[CV]  max_samples=0.95, max_features=1.0, base_estimator__C=0.0683333333333, total=  11.1s\n",
      "[CV] max_samples=0.85, max_features=0.95, base_estimator__C=0.0841666666667 \n",
      "[CV]  max_samples=0.95, max_features=1.0, base_estimator__C=0.0683333333333, total=  11.3s\n",
      "[CV] max_samples=0.85, max_features=0.95, base_estimator__C=0.0841666666667 \n",
      "[CV]  max_samples=0.85, max_features=0.95, base_estimator__C=0.0841666666667, total=   9.8s\n",
      "[CV] max_samples=0.9, max_features=0.95, base_estimator__C=0.0841666666667 \n",
      "[CV]  max_samples=0.85, max_features=0.95, base_estimator__C=0.0841666666667, total=   9.3s\n",
      "[CV] max_samples=0.9, max_features=0.95, base_estimator__C=0.0841666666667 \n",
      "[CV]  max_samples=0.85, max_features=0.95, base_estimator__C=0.0841666666667, total=   9.9s\n",
      "[CV] max_samples=0.9, max_features=0.95, base_estimator__C=0.0841666666667 \n",
      "[CV]  max_samples=0.9, max_features=0.95, base_estimator__C=0.0841666666667, total=  10.8s\n",
      "[CV] max_samples=0.95, max_features=0.95, base_estimator__C=0.0841666666667 \n",
      "[CV]  max_samples=0.9, max_features=0.95, base_estimator__C=0.0841666666667, total=  10.7s\n",
      "[CV] max_samples=0.95, max_features=0.95, base_estimator__C=0.0841666666667 \n",
      "[CV]  max_samples=0.9, max_features=0.95, base_estimator__C=0.0841666666667, total=  10.2s\n",
      "[CV] max_samples=0.95, max_features=0.95, base_estimator__C=0.0841666666667 \n",
      "[CV]  max_samples=0.95, max_features=0.95, base_estimator__C=0.0841666666667, total=   7.9s\n",
      "[CV] max_samples=0.85, max_features=1.0, base_estimator__C=0.0841666666667 \n",
      "[CV]  max_samples=0.95, max_features=0.95, base_estimator__C=0.0841666666667, total=   7.8s\n",
      "[CV] max_samples=0.85, max_features=1.0, base_estimator__C=0.0841666666667 \n",
      "[CV]  max_samples=0.95, max_features=0.95, base_estimator__C=0.0841666666667, total=   8.1s\n",
      "[CV] max_samples=0.85, max_features=1.0, base_estimator__C=0.0841666666667 \n",
      "[CV]  max_samples=0.85, max_features=1.0, base_estimator__C=0.0841666666667, total=   7.8s\n",
      "[CV] max_samples=0.9, max_features=1.0, base_estimator__C=0.0841666666667 \n",
      "[CV]  max_samples=0.85, max_features=1.0, base_estimator__C=0.0841666666667, total=   7.7s\n",
      "[CV] max_samples=0.9, max_features=1.0, base_estimator__C=0.0841666666667 \n",
      "[CV]  max_samples=0.85, max_features=1.0, base_estimator__C=0.0841666666667, total=   7.6s\n",
      "[CV] max_samples=0.9, max_features=1.0, base_estimator__C=0.0841666666667 \n",
      "[CV]  max_samples=0.9, max_features=1.0, base_estimator__C=0.0841666666667, total=   7.8s\n",
      "[CV] max_samples=0.95, max_features=1.0, base_estimator__C=0.0841666666667 \n",
      "[CV]  max_samples=0.9, max_features=1.0, base_estimator__C=0.0841666666667, total=   7.9s\n",
      "[CV] max_samples=0.95, max_features=1.0, base_estimator__C=0.0841666666667 \n",
      "[CV]  max_samples=0.9, max_features=1.0, base_estimator__C=0.0841666666667, total=   7.7s\n",
      "[CV] max_samples=0.95, max_features=1.0, base_estimator__C=0.0841666666667 \n",
      "[CV]  max_samples=0.95, max_features=1.0, base_estimator__C=0.0841666666667, total=   8.2s\n",
      "[CV] max_samples=0.85, max_features=0.95, base_estimator__C=0.1 ......\n",
      "[CV]  max_samples=0.95, max_features=1.0, base_estimator__C=0.0841666666667, total=   8.4s\n",
      "[CV] max_samples=0.85, max_features=0.95, base_estimator__C=0.1 ......\n",
      "[CV]  max_samples=0.95, max_features=1.0, base_estimator__C=0.0841666666667, total=   9.0s\n",
      "[CV] max_samples=0.85, max_features=0.95, base_estimator__C=0.1 ......\n",
      "[CV]  max_samples=0.85, max_features=0.95, base_estimator__C=0.1, total=   8.8s\n",
      "[CV] max_samples=0.9, max_features=0.95, base_estimator__C=0.1 .......\n",
      "[CV]  max_samples=0.85, max_features=0.95, base_estimator__C=0.1, total=   8.5s\n",
      "[CV] max_samples=0.9, max_features=0.95, base_estimator__C=0.1 .......\n",
      "[CV]  max_samples=0.85, max_features=0.95, base_estimator__C=0.1, total=   8.1s\n",
      "[CV] max_samples=0.9, max_features=0.95, base_estimator__C=0.1 .......\n",
      "[CV]  max_samples=0.9, max_features=0.95, base_estimator__C=0.1, total=   8.0s\n",
      "[CV] max_samples=0.95, max_features=0.95, base_estimator__C=0.1 ......\n",
      "[CV]  max_samples=0.9, max_features=0.95, base_estimator__C=0.1, total=   7.9s\n",
      "[CV] max_samples=0.95, max_features=0.95, base_estimator__C=0.1 ......\n",
      "[CV]  max_samples=0.9, max_features=0.95, base_estimator__C=0.1, total=   7.9s\n",
      "[CV] max_samples=0.95, max_features=0.95, base_estimator__C=0.1 ......\n",
      "[CV]  max_samples=0.95, max_features=0.95, base_estimator__C=0.1, total=   8.3s\n",
      "[CV] max_samples=0.85, max_features=1.0, base_estimator__C=0.1 .......\n",
      "[CV]  max_samples=0.95, max_features=0.95, base_estimator__C=0.1, total=   8.0s\n",
      "[CV] max_samples=0.85, max_features=1.0, base_estimator__C=0.1 .......\n",
      "[CV]  max_samples=0.95, max_features=0.95, base_estimator__C=0.1, total=   8.4s\n",
      "[CV] max_samples=0.85, max_features=1.0, base_estimator__C=0.1 .......\n",
      "[CV]  max_samples=0.85, max_features=1.0, base_estimator__C=0.1, total=   8.2s\n",
      "[CV] max_samples=0.9, max_features=1.0, base_estimator__C=0.1 ........\n",
      "[CV]  max_samples=0.85, max_features=1.0, base_estimator__C=0.1, total=   8.1s\n",
      "[CV] max_samples=0.9, max_features=1.0, base_estimator__C=0.1 ........\n",
      "[CV]  max_samples=0.85, max_features=1.0, base_estimator__C=0.1, total=   8.5s\n",
      "[CV] max_samples=0.9, max_features=1.0, base_estimator__C=0.1 ........\n",
      "[CV]  max_samples=0.9, max_features=1.0, base_estimator__C=0.1, total=   9.1s\n",
      "[CV] max_samples=0.95, max_features=1.0, base_estimator__C=0.1 .......\n",
      "[CV]  max_samples=0.9, max_features=1.0, base_estimator__C=0.1, total=   9.1s\n",
      "[CV] max_samples=0.95, max_features=1.0, base_estimator__C=0.1 .......\n",
      "[CV]  max_samples=0.9, max_features=1.0, base_estimator__C=0.1, total=   8.4s\n",
      "[CV] max_samples=0.95, max_features=1.0, base_estimator__C=0.1 .......\n",
      "[CV]  max_samples=0.95, max_features=1.0, base_estimator__C=0.1, total=   8.3s\n",
      "[CV]  max_samples=0.95, max_features=1.0, base_estimator__C=0.1, total=   8.7s\n",
      "[CV]  max_samples=0.95, max_features=1.0, base_estimator__C=0.1, total=   7.9s\n"
     ]
    },
    {
     "name": "stderr",
     "output_type": "stream",
     "text": [
      "[Parallel(n_jobs=3)]: Done 126 out of 126 | elapsed:  5.4min finished\n"
     ]
    },
    {
     "name": "stdout",
     "output_type": "stream",
     "text": [
      "0.725763356832\n"
     ]
    }
   ],
   "source": [
    "## fitting on data without any feature generation\n",
    "from sklearn.model_selection import StratifiedKFold, cross_val_score, GridSearchCV\n",
    "from sklearn.linear_model import LogisticRegression\n",
    "from sklearn.ensemble import BaggingClassifier\n",
    "\n",
    "\n",
    "skf = StratifiedKFold(shuffle = True, random_state = 42)\n",
    "\n",
    "lg = LogisticRegression(class_weight= 'balanced')\n",
    "parameters = {'max_features': [0.95, 1.], 'max_samples': [0.85, 0.9, 0.95], \"base_estimator__C\": np.linspace(0.005,0.1,7)}\n",
    "bg = BaggingClassifier(lg, random_state=42, n_estimators=5)\n",
    "\n",
    "grid_search_1 = GridSearchCV(bg, parameters, scoring ='roc_auc', cv = skf, verbose = 2, n_jobs = 3)\n",
    "grid_search_1 = grid_search_1.fit(X_train_old, y_train_old)\n",
    "\n",
    "print(grid_search_1.best_score_)\n",
    "\n",
    "\n"
   ]
  },
  {
   "cell_type": "code",
   "execution_count": 4,
   "metadata": {},
   "outputs": [
    {
     "name": "stdout",
     "output_type": "stream",
     "text": [
      "{'max_samples': 0.9, 'max_features': 1.0, 'base_estimator__C': 0.052499999999999998}\n"
     ]
    },
    {
     "data": {
      "text/plain": [
       "8055148"
      ]
     },
     "execution_count": 4,
     "metadata": {},
     "output_type": "execute_result"
    }
   ],
   "source": [
    "print(grid_search_1.best_params_)\n",
    "\n",
    "best_bag = grid_search_1.best_estimator_\n",
    "best_bag.fit(X_train_old, y_train_old)\n",
    "\n",
    "y_test = best_bag.predict(X_test_old)\n",
    "test['0'] = y_test\n",
    "\n"
   ]
  },
  {
   "cell_type": "code",
   "execution_count": 15,
   "metadata": {},
   "outputs": [],
   "source": [
    "header = ['_VAL_']\n",
    "test['0'].to_csv('bag_2.csv',sep =',', header = header, index_label = ['_ID_']) "
   ]
  },
  {
   "cell_type": "code",
   "execution_count": null,
   "metadata": {},
   "outputs": [],
   "source": []
  }
 ],
 "metadata": {
  "kernelspec": {
   "display_name": "Python [conda env:py3]",
   "language": "python",
   "name": "conda-env-py3-py"
  },
  "language_info": {
   "codemirror_mode": {
    "name": "ipython",
    "version": 3
   },
   "file_extension": ".py",
   "mimetype": "text/x-python",
   "name": "python",
   "nbconvert_exporter": "python",
   "pygments_lexer": "ipython3",
   "version": "3.5.3"
  }
 },
 "nbformat": 4,
 "nbformat_minor": 2
}
