{
 "cells": [
  {
   "cell_type": "markdown",
   "metadata": {},
   "source": [
    "# Препроцессинг, инжиниринг фич"
   ]
  },
  {
   "cell_type": "code",
   "execution_count": 1,
   "metadata": {},
   "outputs": [],
   "source": [
    "import pandas as pd\n",
    "import numpy as np\n",
    "import pandas_profiling as pp"
   ]
  },
  {
   "cell_type": "code",
   "execution_count": 237,
   "metadata": {},
   "outputs": [],
   "source": [
    "train = pd.read_csv('train.csv', sep = '\\t', index_col = 'Unnamed: 0')\n",
    "test = pd.read_csv('test.csv', sep = '\\t', index_col = 'Unnamed: 0')"
   ]
  },
  {
   "cell_type": "code",
   "execution_count": 8,
   "metadata": {},
   "outputs": [],
   "source": [
    "train_report = pp.ProfileReport(train)\n",
    "train_report.to_file(outputfile='train_rep.html')"
   ]
  },
  {
   "cell_type": "code",
   "execution_count": 7,
   "metadata": {},
   "outputs": [],
   "source": [
    "test_report = pp.ProfileReport(test)\n",
    "test_report.to_file(outputfile='test_rep.html')"
   ]
  },
  {
   "cell_type": "markdown",
   "metadata": {},
   "source": [
    "фичи которые имеют корреляцию >= 0.95"
   ]
  },
  {
   "cell_type": "code",
   "execution_count": 34,
   "metadata": {},
   "outputs": [
    {
     "data": {
      "text/plain": [
       "['122', '146', '148', '153', '165', '179', '180', '323', '326', '9']"
      ]
     },
     "execution_count": 34,
     "metadata": {},
     "output_type": "execute_result"
    }
   ],
   "source": [
    "test_report.get_rejected_variables(threshold = 0.95)"
   ]
  },
  {
   "cell_type": "code",
   "execution_count": 33,
   "metadata": {},
   "outputs": [
    {
     "data": {
      "text/plain": [
       "['146', '148', '153', '165', '180', '323', '326', '9']"
      ]
     },
     "execution_count": 33,
     "metadata": {},
     "output_type": "execute_result"
    }
   ],
   "source": [
    "train_report.get_rejected_variables(threshold = 0.95)"
   ]
  },
  {
   "cell_type": "markdown",
   "metadata": {},
   "source": [
    "константные фичи"
   ]
  },
  {
   "cell_type": "code",
   "execution_count": 86,
   "metadata": {},
   "outputs": [
    {
     "data": {
      "text/plain": [
       "['140', '152', '160', '164']"
      ]
     },
     "execution_count": 86,
     "metadata": {},
     "output_type": "execute_result"
    }
   ],
   "source": [
    "const_list_train = [i for i in train.columns if len(train[i].unique()) == 1]\n",
    "const_list_train"
   ]
  },
  {
   "cell_type": "code",
   "execution_count": 61,
   "metadata": {},
   "outputs": [
    {
     "data": {
      "text/plain": [
       "['0',\n",
       " '5',\n",
       " '11',\n",
       " '129',\n",
       " '130',\n",
       " '137',\n",
       " '138',\n",
       " '140',\n",
       " '141',\n",
       " '149',\n",
       " '150',\n",
       " '164',\n",
       " '178',\n",
       " '186',\n",
       " '188',\n",
       " '192',\n",
       " '193',\n",
       " '291',\n",
       " '301',\n",
       " '303',\n",
       " '305']"
      ]
     },
     "execution_count": 61,
     "metadata": {},
     "output_type": "execute_result"
    }
   ],
   "source": [
    "const_list_test = [i for i in test.columns if len(test[i].unique()) == 1]\n",
    "const_list_test"
   ]
  },
  {
   "cell_type": "code",
   "execution_count": 64,
   "metadata": {
    "scrolled": true
   },
   "outputs": [
    {
     "name": "stdout",
     "output_type": "stream",
     "text": [
      "0    4165\n",
      "1       1\n",
      "Name: 152, dtype: int64\n",
      "0    4165\n",
      "1       1\n",
      "Name: 160, dtype: int64\n"
     ]
    }
   ],
   "source": [
    "# check 152, 160 - constant in train, not in test \n",
    "print(test['152'].value_counts())\n",
    "print(test['160'].value_counts())"
   ]
  },
  {
   "cell_type": "code",
   "execution_count": 85,
   "metadata": {
    "scrolled": true
   },
   "outputs": [
    {
     "name": "stdout",
     "output_type": "stream",
     "text": [
      "5\n",
      "0    30481\n",
      "1       19\n",
      "Name: 5, dtype: int64\n",
      "target\n",
      "0    11\n",
      "1     8\n",
      "Name: 0, dtype: int64 \n",
      "\n",
      "11\n",
      "1    30495\n",
      "0        5\n",
      "Name: 11, dtype: int64\n",
      "target\n",
      "0    3\n",
      "1    2\n",
      "Name: 0, dtype: int64 \n",
      "\n",
      "129\n",
      "0    30489\n",
      "1       11\n",
      "Name: 129, dtype: int64\n",
      "target\n",
      "0    9\n",
      "1    2\n",
      "Name: 0, dtype: int64 \n",
      "\n",
      "130\n",
      "0    30498\n",
      "1        2\n",
      "Name: 130, dtype: int64\n",
      "target\n",
      "0    2\n",
      "Name: 0, dtype: int64 \n",
      "\n",
      "137\n",
      "0    30477\n",
      "1       23\n",
      "Name: 137, dtype: int64\n",
      "target\n",
      "0    21\n",
      "1     2\n",
      "Name: 0, dtype: int64 \n",
      "\n",
      "138\n",
      "0    30498\n",
      "1        2\n",
      "Name: 138, dtype: int64\n",
      "target\n",
      "0    2\n",
      "Name: 0, dtype: int64 \n",
      "\n",
      "140\n",
      "0    30500\n",
      "Name: 140, dtype: int64\n",
      "target\n",
      "0    25077\n",
      "1     5423\n",
      "Name: 0, dtype: int64 \n",
      "\n",
      "141\n",
      "0    30498\n",
      "1        2\n",
      "Name: 141, dtype: int64\n",
      "target\n",
      "0    2\n",
      "Name: 0, dtype: int64 \n",
      "\n",
      "149\n",
      "0    30491\n",
      "1        9\n",
      "Name: 149, dtype: int64\n",
      "target\n",
      "0    7\n",
      "1    2\n",
      "Name: 0, dtype: int64 \n",
      "\n",
      "150\n",
      "0    30497\n",
      "1        3\n",
      "Name: 150, dtype: int64\n",
      "target\n",
      "0    3\n",
      "Name: 0, dtype: int64 \n",
      "\n",
      "164\n",
      "0    30500\n",
      "Name: 164, dtype: int64\n",
      "target\n",
      "0    25077\n",
      "1     5423\n",
      "Name: 0, dtype: int64 \n",
      "\n",
      "178\n",
      "0    30492\n",
      "1        8\n",
      "Name: 178, dtype: int64\n",
      "target\n",
      "0    7\n",
      "1    1\n",
      "Name: 0, dtype: int64 \n",
      "\n",
      "186\n",
      "0    30499\n",
      "1        1\n",
      "Name: 186, dtype: int64\n",
      "target\n",
      "0    1\n",
      "Name: 0, dtype: int64 \n",
      "\n",
      "188\n",
      "0    30494\n",
      "1        6\n",
      "Name: 188, dtype: int64\n",
      "target\n",
      "0    5\n",
      "1    1\n",
      "Name: 0, dtype: int64 \n",
      "\n",
      "192\n",
      "0    30499\n",
      "1        1\n",
      "Name: 192, dtype: int64\n",
      "target\n",
      "0    1\n",
      "Name: 0, dtype: int64 \n",
      "\n",
      "193\n",
      "0    30498\n",
      "1        2\n",
      "Name: 193, dtype: int64\n",
      "target\n",
      "0    2\n",
      "Name: 0, dtype: int64 \n",
      "\n",
      "291\n",
      "0    30476\n",
      "1       24\n",
      "Name: 291, dtype: int64\n",
      "target\n",
      "0    21\n",
      "1     3\n",
      "Name: 0, dtype: int64 \n",
      "\n",
      "301\n",
      "0    30497\n",
      "1        3\n",
      "Name: 301, dtype: int64\n",
      "target\n",
      "0    3\n",
      "Name: 0, dtype: int64 \n",
      "\n",
      "303\n",
      "0    30499\n",
      "1        1\n",
      "Name: 303, dtype: int64\n",
      "target\n",
      "0    1\n",
      "Name: 0, dtype: int64 \n",
      "\n",
      "305\n",
      "0    30498\n",
      "1        2\n",
      "Name: 305, dtype: int64\n",
      "target\n",
      "0    2\n",
      "Name: 0, dtype: int64 \n",
      "\n"
     ]
    }
   ],
   "source": [
    "# distribution of features in train which are constant in test \n",
    "for i in const_list_test[1:]:\n",
    "    print(i)\n",
    "    print(train[i].value_counts())\n",
    "    print('target')\n",
    "    print(train.loc[train[i] == np.argmin(train[i].value_counts()), '0'].value_counts(),'\\n')\n",
    "    "
   ]
  },
  {
   "cell_type": "markdown",
   "metadata": {},
   "source": [
    "# columns to delete "
   ]
  },
  {
   "cell_type": "markdown",
   "metadata": {},
   "source": [
    "1. all constant in train  ['140', '152', '160', '164']\n",
    "2. 305, 303, 301, 193, 192, 186, 150, 141, 138, 130 - because of very high correlation"
   ]
  },
  {
   "cell_type": "code",
   "execution_count": 238,
   "metadata": {},
   "outputs": [],
   "source": [
    "train.drop(['140', '152', '160', '164','305', '303', '301', '193', '192', '186', '150', '141', '138', '130'],inplace = True,axis = 1)\n",
    "test.drop(['140', '152', '160', '164','305', '303', '301', '193', '192', '186', '150', '141', '138', '130'],inplace = True, axis = 1)"
   ]
  },
  {
   "cell_type": "code",
   "execution_count": null,
   "metadata": {},
   "outputs": [],
   "source": [
    "X_train, y_train = train[train.columns[1:]], train['0']\n",
    "X_test, y_test = test[test.columns[1:]], test['0'].fillna(0, inplace = True)"
   ]
  },
  {
   "cell_type": "code",
   "execution_count": 118,
   "metadata": {},
   "outputs": [],
   "source": [
    "# names of columns with binary variables\n",
    "binary_list = [i for i in X_train.columns if len(X_train[i].value_counts()) == 2]"
   ]
  },
  {
   "cell_type": "code",
   "execution_count": 179,
   "metadata": {},
   "outputs": [
    {
     "data": {
      "text/plain": [
       "[('337', -0.1457217397960931),\n",
       " ('298', -0.12757933553894957),\n",
       " ('332', -0.12439091984025676),\n",
       " ('147', -0.079413411781676949),\n",
       " ('36', -0.078344089067329731),\n",
       " ('165', -0.064505470228960943),\n",
       " ('62', -0.063916152678570634),\n",
       " ('22', -0.063882876113892789),\n",
       " ('48', -0.055970430573814171),\n",
       " ('44', -0.051059659135367468),\n",
       " ('223', -0.045952782665356302),\n",
       " ('190', -0.045463305535124503),\n",
       " ('18', -0.037554344349653615),\n",
       " ('2', -0.036854772188801149),\n",
       " ('9', -0.036854772188801149),\n",
       " ('216', -0.033268998110934783),\n",
       " ('47', -0.030258608716411801),\n",
       " ('31', -0.030037252859205651),\n",
       " ('49', -0.029700379647389964),\n",
       " ('53', -0.026874343253007884),\n",
       " ('56', -0.026360318390569275),\n",
       " ('58', -0.025830823936705993),\n",
       " ('54', -0.025292763511370858),\n",
       " ('24', -0.024692106120664629),\n",
       " ('220', -0.023839802886202122),\n",
       " ('59', -0.023393387705996076),\n",
       " ('64', -0.023039815344711074),\n",
       " ('57', -0.02254661411898504),\n",
       " ('179', -0.022148312614710151),\n",
       " ('23', -0.022028425579064013),\n",
       " ('167', -0.021504518465117146),\n",
       " ('52', -0.020298192070096036),\n",
       " ('21', -0.020065671263114798),\n",
       " ('8', -0.019511049365816931),\n",
       " ('30', -0.018701820538481673),\n",
       " ('50', -0.018323112581289502),\n",
       " ('14', -0.018219284964095091),\n",
       " ('284', -0.01742494765819292),\n",
       " ('128', -0.017384254690785406),\n",
       " ('173', -0.01730982605032548),\n",
       " ('246', -0.016674389981994081),\n",
       " ('187', -0.016520676097243951),\n",
       " ('43', -0.016276316596898266),\n",
       " ('239', -0.015876615890495469),\n",
       " ('132', -0.015481562932392827),\n",
       " ('242', -0.015410487572548297),\n",
       " ('260', -0.015400810660108059),\n",
       " ('258', -0.01472104418420624),\n",
       " ('166', -0.014672183531256371),\n",
       " ('33', -0.014044530251720233),\n",
       " ('184', -0.014005114049623036),\n",
       " ('161', -0.013583258152458663),\n",
       " ('240', -0.013567801152367113),\n",
       " ('17', -0.013408106763367064),\n",
       " ('153', -0.013408106763367064),\n",
       " ('302', -0.013319261924166747),\n",
       " ('217', -0.013238122099840089),\n",
       " ('275', -0.013220468870416759),\n",
       " ('28', -0.013160377236938416),\n",
       " ('251', -0.013125767700133077),\n",
       " ('181', -0.013118977182638583),\n",
       " ('55', -0.013007643804573301),\n",
       " ('218', -0.012933949417652689),\n",
       " ('40', -0.012709927308933311),\n",
       " ('32', -0.012299127281641656),\n",
       " ('256', -0.012230090898246388),\n",
       " ('224', -0.012112932267239336),\n",
       " ('290', -0.012056141815698567),\n",
       " ('163', -0.011639269630171244),\n",
       " ('316', -0.011505576465197946),\n",
       " ('27', -0.011250149376377879),\n",
       " ('169', -0.010821969370109452),\n",
       " ('26', -0.010740492664712361),\n",
       " ('180', -0.01038670434290267),\n",
       " ('249', -0.010260629182573824),\n",
       " ('29', -0.010140597083096179),\n",
       " ('183', -0.010095410370720643),\n",
       " ('236', -0.0097434836131167074),\n",
       " ('340', -0.0091318228517968097),\n",
       " ('168', -0.0090903227636125791),\n",
       " ('307', -0.0089373737471144105),\n",
       " ('308', -0.0088329701882538577),\n",
       " ('139', -0.0088250607613378496),\n",
       " ('16', -0.0087637405989136729),\n",
       " ('287', -0.008474191116316112),\n",
       " ('131', -0.0084741911163161102),\n",
       " ('42', -0.0080424514303479907),\n",
       " ('299', -0.0079088729879688187),\n",
       " ('15', -0.0076450393775501545),\n",
       " ('185', -0.0075324117157196833),\n",
       " ('11', -0.0074413302087760298),\n",
       " ('229', -0.0074372433810133776),\n",
       " ('175', -0.0073383395801190927),\n",
       " ('259', -0.0073264536824247479),\n",
       " ('280', -0.0070411971366682088),\n",
       " ('296', -0.0070411971366682088),\n",
       " ('289', -0.0069995488000429325),\n",
       " ('162', -0.0065272385653513364),\n",
       " ('137', -0.0065272385653513346),\n",
       " ('269', -0.0065230459746128885),\n",
       " ('309', -0.0063788635715819322),\n",
       " ('19', -0.0063733483020479804),\n",
       " ('277', -0.0061020590196069428),\n",
       " ('3', -0.0059546014050748681),\n",
       " ('182', -0.0059546014050748672),\n",
       " ('266', -0.0058644629745700488),\n",
       " ('285', -0.0056020503392755182),\n",
       " ('174', -0.0053351429670500635),\n",
       " ('38', -0.0052244807338709875),\n",
       " ('155', -0.004798331706326946),\n",
       " ('157', -0.0044756503680203896),\n",
       " ('293', -0.0043611727390592565),\n",
       " ('310', -0.0042699764122939013),\n",
       " ('215', -0.004262228131416022),\n",
       " ('270', -0.0040432345953694158),\n",
       " ('177', -0.0040379608497862259),\n",
       " ('291', -0.0038755181520602703),\n",
       " ('191', -0.0037658353688659937),\n",
       " ('244', -0.0027705752075656044),\n",
       " ('255', -0.0027608398977130048),\n",
       " ('264', -0.0025849478800977219),\n",
       " ('234', -0.0023086939428350428),\n",
       " ('133', -0.0023086939428350419),\n",
       " ('230', -0.0022627887864984839),\n",
       " ('178', -0.0022369443238367251),\n",
       " ('232', -0.0022369443238367238),\n",
       " ('247', -0.0022369443238367225),\n",
       " ('143', -0.002017453010233683),\n",
       " ('281', -0.0018753329705422804),\n",
       " ('304', -0.0017427889463243757),\n",
       " ('261', -0.0015748561563236529),\n",
       " ('45', -0.0015404282494607719),\n",
       " ('288', -0.0015252581438614083),\n",
       " ('237', -0.001153819215463574),\n",
       " ('257', -0.00094013200440762519),\n",
       " ('156', -0.00081737617653925205),\n",
       " ('134', -0.00072306459007569972),\n",
       " ('151', -0.00070696751918725338),\n",
       " ('154', -0.00061527173972644885),\n",
       " ('306', -0.00048448969129566346),\n",
       " ('172', -0.00043485574015882735),\n",
       " ('188', -0.0004085674502508116),\n",
       " ('222', -0.00019816226738252648),\n",
       " ('267', -8.2312755705760577e-05),\n",
       " ('225', -7.2891613679454147e-06),\n",
       " ('276', -3.6283651172743631e-06),\n",
       " ('129', 0.00019945368788791676),\n",
       " ('278', 0.00042789878091149499),\n",
       " ('135', 0.00058102012566193389),\n",
       " ('170', 0.00074336440185058009),\n",
       " ('279', 0.00081008480435287617),\n",
       " ('41', 0.0009584080313934202),\n",
       " ('159', 0.0010104741519830782),\n",
       " ('226', 0.0019912878698395129),\n",
       " ('149', 0.0019959326976900123),\n",
       " ('136', 0.0019986157717500849),\n",
       " ('300', 0.0021625605620274576),\n",
       " ('241', 0.002319571197817148),\n",
       " ('272', 0.0035923681290082176),\n",
       " ('238', 0.0044912738157170066),\n",
       " ('250', 0.0045030011054523582),\n",
       " ('243', 0.0049546524582528232),\n",
       " ('51', 0.0057651833946550934),\n",
       " ('263', 0.007973126076913398),\n",
       " ('228', 0.0081680776227411895),\n",
       " ('268', 0.00873842851828306),\n",
       " ('254', 0.0089129017510484465),\n",
       " ('171', 0.009133443373329735),\n",
       " ('253', 0.0097073489941610618),\n",
       " ('273', 0.010236864843030642),\n",
       " ('245', 0.01134528232882354),\n",
       " ('294', 0.011523711740814794),\n",
       " ('292', 0.012672683549963802),\n",
       " ('189', 0.013626284340560315),\n",
       " ('286', 0.014000334505199831),\n",
       " ('282', 0.014396209610918564),\n",
       " ('318', 0.014762403981702333),\n",
       " ('227', 0.014769105277828992),\n",
       " ('5', 0.015883863116597945),\n",
       " ('95', 0.015950570728687462),\n",
       " ('235', 0.016480905006734631),\n",
       " ('271', 0.017421320438304536),\n",
       " ('248', 0.017793140452961459),\n",
       " ('6', 0.019446242911761977),\n",
       " ('262', 0.019582004872571623),\n",
       " ('265', 0.021032531816908048),\n",
       " ('63', 0.022941173475072123),\n",
       " ('61', 0.024670841321274312),\n",
       " ('37', 0.026374860650092338),\n",
       " ('343', 0.027592692578332849),\n",
       " ('12', 0.028362533528651881),\n",
       " ('231', 0.028599058848495531),\n",
       " ('25', 0.03189499942057842),\n",
       " ('145', 0.032597679500844523),\n",
       " ('252', 0.032909188404582512),\n",
       " ('176', 0.033716921132119278),\n",
       " ('146', 0.036313581638106371),\n",
       " ('221', 0.037093016277185822),\n",
       " ('39', 0.037197121275671083),\n",
       " ('1', 0.037239484085208552),\n",
       " ('142', 0.037611276133859908),\n",
       " ('97', 0.038325549905675813),\n",
       " ('148', 0.038678722375756355),\n",
       " ('274', 0.038912217587992577),\n",
       " ('35', 0.042462473341869762),\n",
       " ('46', 0.042490443344153479),\n",
       " ('342', 0.046203239941303972),\n",
       " ('339', 0.050763184774044436),\n",
       " ('20', 0.053256648927465143),\n",
       " ('344', 0.054138304119013214),\n",
       " ('158', 0.055856693429175881),\n",
       " ('345', 0.05795144621623273),\n",
       " ('233', 0.060493786129130249),\n",
       " ('10', 0.061143478540618537),\n",
       " ('96', 0.062351029238523509),\n",
       " ('297', 0.070316715621584813),\n",
       " ('283', 0.078104858174954203),\n",
       " ('219', 0.084407935505334042),\n",
       " ('65', 0.088044079785767143),\n",
       " ('60', 0.10857143016592991),\n",
       " ('4', 0.11745329253152549),\n",
       " ('34', 0.12237638784182032),\n",
       " ('144', 0.12303992048636103),\n",
       " ('295', 0.13226417112186684),\n",
       " ('338', 0.15552247882925146)]"
      ]
     },
     "execution_count": 179,
     "metadata": {},
     "output_type": "execute_result"
    }
   ],
   "source": [
    "# matthews correlation of binary columns with target variable\n",
    "\n",
    "from sklearn.metrics import matthews_corrcoef\n",
    "import operator\n",
    "\n",
    "matt_corr = {}\n",
    "high_negative = {}\n",
    "high_positive = {}\n",
    "\n",
    "for i in binary_list:\n",
    "    matt_corr[i] = matthews_corrcoef(y_train.values, X_train[i].values)\n",
    "    if matt_corr[i] >= 0.07:\n",
    "        high_positive[i] = matthews_corrcoef(y_train.values, X_train[i].values)\n",
    "    elif matt_corr[i] <= -0.07:\n",
    "        high_negative[i] = matthews_corrcoef(y_train.values, X_train[i].values)\n",
    "        \n",
    "        \n",
    "    \n",
    "high_positive_sorted = sorted(high_positive.items(), key=operator.itemgetter(1))\n",
    "high_negative_sorted = sorted(high_negative.items(), key=operator.itemgetter(1))    \n",
    "matt_corr_sorted = sorted(matt_corr.items(), key=operator.itemgetter(1))\n",
    "matt_corr_sorted"
   ]
  },
  {
   "cell_type": "code",
   "execution_count": 192,
   "metadata": {
    "scrolled": false
   },
   "outputs": [
    {
     "data": {
      "text/plain": [
       "[('297', 0.070316715621584813),\n",
       " ('283', 0.078104858174954203),\n",
       " ('219', 0.084407935505334042),\n",
       " ('65', 0.088044079785767143),\n",
       " ('60', 0.10857143016592991),\n",
       " ('4', 0.11745329253152549),\n",
       " ('34', 0.12237638784182032),\n",
       " ('144', 0.12303992048636103),\n",
       " ('295', 0.13226417112186684),\n",
       " ('338', 0.15552247882925146)]"
      ]
     },
     "execution_count": 192,
     "metadata": {},
     "output_type": "execute_result"
    }
   ],
   "source": [
    "high_positive_sorted"
   ]
  },
  {
   "cell_type": "code",
   "execution_count": 217,
   "metadata": {
    "scrolled": true
   },
   "outputs": [
    {
     "data": {
      "text/plain": [
       "[('337', -0.1457217397960931),\n",
       " ('298', -0.12757933553894957),\n",
       " ('332', -0.12439091984025676),\n",
       " ('147', -0.079413411781676949),\n",
       " ('36', -0.078344089067329731)]"
      ]
     },
     "execution_count": 217,
     "metadata": {},
     "output_type": "execute_result"
    }
   ],
   "source": [
    "high_negative_sorted"
   ]
  },
  {
   "cell_type": "markdown",
   "metadata": {},
   "source": [
    "# Попытка сгенерировать новые фичи\n",
    "Рассматриваю только те бинарные фичи, которые имеют достаточную позитивную и негативную корреляцию(>=0.07 и <=-0.07 соответственно) с таргетом \n",
    "\n",
    "Буду делать так: если корр. Мэтьюса двух фич между собой < 0.3 тогда я создаю новую фичу как их дизюнкцию, а если больше 0.6 - то как их конюнкцию. И если новая фича коррелирует со старыми с коэфф > 0.99 то я ее удаляю\n",
    "\n",
    "( К сожалению, этот подход практически не давал прироста качества - поэтому в большинстве случаев я использовал датасеты без новых фич)"
   ]
  },
  {
   "cell_type": "code",
   "execution_count": 250,
   "metadata": {
    "scrolled": true
   },
   "outputs": [],
   "source": [
    "for i in range(len(list(high_positive.keys()))):\n",
    "    for j in range(i+1 ,len(list(high_positive.keys()))):\n",
    "        if matthews_corrcoef(X_train[list(high_positive.keys())[i]], X_train[list(high_positive.keys())[j]]) < 0.3:\n",
    "            mix = np.logical_or(X_train[list(high_positive.keys())[i]], X_train[list(high_positive.keys())[j]])\n",
    "            mix = np.array([int(i) for i in mix])\n",
    "            if (matthews_corrcoef(mix, X_train[list(high_positive.keys())[i]]) < 0.99) and (matthews_corrcoef(mix, X_train[list(high_positive.keys())[i]])) < 0.99:\n",
    "                X_train['mixOR '+list(high_positive.keys())[i]+'-'+list(high_positive.keys())[j]] = mix\n",
    "                mix_1 = np.logical_or(X_test[list(high_positive.keys())[i]], X_test[list(high_positive.keys())[j]])\n",
    "                mix_1 = np.array([int(i) for i in mix_1])                \n",
    "                X_test['mixOR '+list(high_positive.keys())[i]+'-'+list(high_positive.keys())[j]] = mix_1\n",
    "\n",
    "\n",
    "        if matthews_corrcoef(X_train[list(high_positive.keys())[i]], X_train[list(high_positive.keys())[j]]) > 0.6:\n",
    "            mix = np.logical_and(X_train[list(high_positive.keys())[i]], X_train[list(high_positive.keys())[j]])\n",
    "            mix = np.array([int(i) for i in mix])\n",
    "            if (matthews_corrcoef(mix, X_train[list(high_positive.keys())[i]]) < 0.99) and (matthews_corrcoef(mix, X_train[list(high_positive.keys())[i]])) < 0.99:\n",
    "                X_train['mixAND '+list(high_positive.keys())[i]+'-'+ list(high_positive.keys())[j]] = mix\n",
    "                mix_1 = np.logical_and(X_test[list(high_positive.keys())[i]], X_test[list(high_positive.keys())[j]])\n",
    "                mix_1 = np.array([int(i) for i in mix_1])      \n",
    "                X_test['mixAND '+list(high_positive.keys())[i]+'-'+ list(high_positive.keys())[j]] = mix_1\n",
    "\n",
    "\n",
    "\n",
    "            '''\n",
    "            print(i,'  ',j,'   ',matthews_corrcoef(X_train[list(high_positive.keys())[i]], X_train[list(high_positive.keys())[j]]))\n",
    "            print(matthews_corrcoef(mix, y_train.values))\n",
    "            print(matthews_corrcoef(mix, X_train[list(high_positive.keys())[i]]))\n",
    "            print(matthews_corrcoef(mix, X_train[list(high_positive.keys())[j]]))\n",
    "            print(matthews_corrcoef(y_train.values, X_train[list(high_positive.keys())[i]]))\n",
    "            print(matthews_corrcoef(y_train.values, X_train[list(high_positive.keys())[j]]))\n",
    "            '''\n",
    "            "
   ]
  },
  {
   "cell_type": "code",
   "execution_count": 251,
   "metadata": {},
   "outputs": [],
   "source": [
    "for i in range(len(list(high_negative.keys()))):\n",
    "    for j in range(i+1 ,len(list(high_negative.keys()))):        \n",
    "        if matthews_corrcoef(X_train[list(high_negative.keys())[i]], X_train[list(high_negative.keys())[j]]) < 0.3:\n",
    "            mix = np.logical_or(X_train[list(high_negative.keys())[i]], X_train[list(high_negative.keys())[j]])\n",
    "            mix = np.array([int(i) for i in mix])\n",
    "            if (matthews_corrcoef(mix, X_train[list(high_negative.keys())[i]]) < 0.99) and (matthews_corrcoef(mix, X_train[list(high_negative.keys())[i]])) < 0.99:\n",
    "                X_train['mixOR '+list(high_negative.keys())[i]+'-'+list(high_negative.keys())[j]] = mix\n",
    "                mix_1 = np.logical_or(X_test[list(high_negative.keys())[i]], X_test[list(high_negative.keys())[j]])\n",
    "                mix_1 = np.array([int(i) for i in mix_1])                \n",
    "                X_test['mixOR '+list(high_negative.keys())[i]+'-'+list(high_negative.keys())[j]] = mix_1\n",
    "\n",
    "\n",
    "                \n",
    "        if matthews_corrcoef(X_train[list(high_negative.keys())[i]], X_train[list(high_negative.keys())[j]]) > 0.6:\n",
    "            mix = np.logical_and(X_train[list(high_negative.keys())[i]], X_train[list(high_negative.keys())[j]])\n",
    "            mix = np.array([int(i) for i in mix])\n",
    "            if (matthews_corrcoef(mix, X_train[list(high_negative.keys())[i]]) < 0.99) and (matthews_corrcoef(mix, X_train[list(high_negative.keys())[i]])) < 0.99:\n",
    "                X_train['mixAND '+list(high_negative.keys())[i]+'-'+ list(high_negative.keys())[j]] = mix\n",
    "                \n",
    "                mix_1 = np.logical_and(X_test[list(high_negative.keys())[i]], X_test[list(high_negative.keys())[j]])\n",
    "                mix_1 = np.array([int(i) for i in mix_1])                \n",
    "                X_test['mixOR '+list(high_negative.keys())[i]+'-'+list(high_negative.keys())[j]] = mix_1\n",
    "\n",
    "\n",
    "        \n",
    "\n",
    "        '''    \n",
    "        print(i,'  ',j,'   ',matthews_corrcoef(X_train[list(high_negative.keys())[i]], X_train[list(high_negative.keys())[j]]))\n",
    "        print(matthews_corrcoef(mix, y_train.values))\n",
    "        print(matthews_corrcoef(mix, X_train[list(high_negative.keys())[i]]))\n",
    "        print(matthews_corrcoef(mix, X_train[list(high_negative.keys())[j]]))\n",
    "        print(matthews_corrcoef(y_train.values, X_train[list(high_negative.keys())[i]]))\n",
    "        print(matthews_corrcoef(y_train.values, X_train[list(high_negative.keys())[j]]))\n",
    "        '''\n",
    "            "
   ]
  },
  {
   "cell_type": "markdown",
   "metadata": {},
   "source": [
    "начальная тестовая выборка"
   ]
  },
  {
   "cell_type": "code",
   "execution_count": 294,
   "metadata": {},
   "outputs": [],
   "source": [
    "X_train_1, y_train_1 = train[train.columns[1:]], train['0']\n",
    "X_test_1, y_test_1 = test[test.columns[1:]], test['0'].fillna(0, inplace = True)"
   ]
  },
  {
   "cell_type": "markdown",
   "metadata": {},
   "source": [
    "Кросс-валидацию я использовал StratifiedKFold()"
   ]
  },
  {
   "cell_type": "code",
   "execution_count": null,
   "metadata": {},
   "outputs": [],
   "source": []
  }
 ],
 "metadata": {
  "kernelspec": {
   "display_name": "Python [conda env:py3]",
   "language": "python",
   "name": "conda-env-py3-py"
  },
  "language_info": {
   "codemirror_mode": {
    "name": "ipython",
    "version": 3
   },
   "file_extension": ".py",
   "mimetype": "text/x-python",
   "name": "python",
   "nbconvert_exporter": "python",
   "pygments_lexer": "ipython3",
   "version": "3.5.3"
  }
 },
 "nbformat": 4,
 "nbformat_minor": 2
}
